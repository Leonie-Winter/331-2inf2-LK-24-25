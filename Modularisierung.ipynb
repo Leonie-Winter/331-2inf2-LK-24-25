{
  "nbformat": 4,
  "nbformat_minor": 0,
  "metadata": {
    "colab": {
      "provenance": [],
      "collapsed_sections": [
        "De3Orx3msxaJ",
        "A8o-5GU56HuS",
        "_iuJc0WVFL8-"
      ]
    },
    "kernelspec": {
      "name": "python3",
      "display_name": "Python 3"
    },
    "language_info": {
      "name": "python"
    }
  },
  "cells": [
    {
      "cell_type": "markdown",
      "source": [
        "# Modularisierung\n",
        "\n",
        "6.3.2.12.5<br>\n",
        "Max Mendghen - 2INF2"
      ],
      "metadata": {
        "id": "F9c2Y98gr_GB"
      }
    },
    {
      "cell_type": "markdown",
      "source": [
        "## Aufgabe 1: Funktion als Baustein verwenden"
      ],
      "metadata": {
        "id": "De3Orx3msxaJ"
      }
    },
    {
      "cell_type": "markdown",
      "source": [
        "Gegeben ist die Funktion `primzahl` mit folgender Funktionsdefinitinon:\n",
        "\n",
        "```\n",
        "def primzahl(n):\n",
        "    prim = True\n",
        "    if n == 1:\n",
        "        prim = False\n",
        "    else:\n",
        "        i = 2\n",
        "        while i <= n-1:\n",
        "            if n % i == 0:\n",
        "                prim = False\n",
        "            i = i+1\n",
        "    return prim\n",
        "```\n",
        "(a) Teste diese Funktion und erstelle eine Schnittstellenbeschreibung."
      ],
      "metadata": {
        "id": "9XnAk7qqs3Q8"
      }
    },
    {
      "cell_type": "code",
      "source": [
        "# Checkt ob die Zahl n eine Primzahl ist\n",
        "def primzahl(n):\n",
        "    # n: int\n",
        "    # return: bool; True wenn n Primzahl ist, sonst False\n",
        "    # Beispiele:\n",
        "    \"\"\"\n",
        "    >>> primzahl(1)\n",
        "    False\n",
        "    >>> primzahl(2)\n",
        "    True\n",
        "    >>> primzahl(3)\n",
        "    True\n",
        "    >>> primzahl(4)\n",
        "    False\n",
        "    >>> primzahl(5)\n",
        "    True\n",
        "    \"\"\"\n",
        "\n",
        "    prim = True\n",
        "    if n == 1:\n",
        "        prim = False\n",
        "    else:\n",
        "        i = 2\n",
        "        while i <= n-1:\n",
        "            if n % i == 0:\n",
        "                prim = False\n",
        "            i = i+1\n",
        "    return prim"
      ],
      "metadata": {
        "id": "lekNDtXUtjjD"
      },
      "execution_count": null,
      "outputs": []
    },
    {
      "cell_type": "markdown",
      "source": [
        "(b) Benutze die Funktion `primzahl` als Baustein, um eines der folgenden Probleme zu lösen:\n",
        "1. Zu einer vorgegebenen natürlichen Zahl a soll die nächst gößere Primzahl bestimmt werden.\n",
        "2. Zu zwei vorgegeben natürlichen Zahlen a und b sollen alle Primzahlen bestimmt werden, die zwischen diesen Zahlen liegen.\n",
        "3. Zu einer vorgegebenen natürlichen Zahl a soll eine Primfaktorzerlegung bestimmt werden.\n",
        "\n"
      ],
      "metadata": {
        "id": "BhnQ6SdDvPwB"
      }
    },
    {
      "cell_type": "code",
      "source": [
        "# aus (a)\n",
        "def primzahl(n):\n",
        "    # n: int\n",
        "    # return: bool; True wenn n Primzahl ist, sonst False\n",
        "    prim = True\n",
        "    if n == 1:\n",
        "        prim = False\n",
        "    else:\n",
        "        i = 2\n",
        "        while i <= n-1:\n",
        "            if n % i == 0:\n",
        "                prim = False\n",
        "            i = i+1\n",
        "    return prim\n",
        "\n",
        "# (1)\n",
        "def naechste_primzahl(a):\n",
        "    # a: int\n",
        "    # return: int; naechste Primzahl von a\n",
        "    prim = False\n",
        "    while not prim:\n",
        "        a += 1\n",
        "        prim = primzahl(a)\n",
        "    return a\n",
        "\n",
        "print(\"Nächste Primzahlen von 1 bis 10:\")\n",
        "for i in range(1, 11):\n",
        "    print(f\"{i}->{naechste_primzahl(i)}\", end=\", \")\n",
        "print(\"\")\n",
        "\n",
        "# (2)\n",
        "def primzahlen_zwischen(a, b):\n",
        "    # a, b: int\n",
        "    # return: list; Liste aller Primzahlen zwischen a und b\n",
        "    primzahlen = []\n",
        "    for i in range(a, b+1):\n",
        "        if primzahl(i):\n",
        "            primzahlen.append(i)\n",
        "    return primzahlen\n",
        "\n",
        "print(\"\\nPrimzahlen zwischen 10 und 30:\")\n",
        "print(primzahlen_zwischen(10, 30))\n",
        "\n",
        "# (3)\n",
        "def primfaktorzerlegung(a):\n",
        "    # a: int\n",
        "    # return: list; Liste der Primfaktoren von a\n",
        "    primfaktoren = []\n",
        "    i = 2\n",
        "    while a > 1:\n",
        "        if a % i == 0:\n",
        "            primfaktoren.append(i)\n",
        "            a = a / i\n",
        "        else:\n",
        "            i += 1\n",
        "    return primfaktoren\n",
        "\n",
        "print(\"\\nPrimfaktoren von 42:\")\n",
        "print(primfaktorzerlegung(42))"
      ],
      "metadata": {
        "colab": {
          "base_uri": "https://localhost:8080/"
        },
        "id": "NLCjL72sv9Ru",
        "outputId": "ae8f09ad-67da-4615-fa97-bf5aa70b6cb6"
      },
      "execution_count": null,
      "outputs": [
        {
          "output_type": "stream",
          "name": "stdout",
          "text": [
            "Nächste Primzahlen von 1 bis 10:\n",
            "1->2, 2->3, 3->5, 4->5, 5->7, 6->7, 7->11, 8->11, 9->11, 10->11, \n",
            "\n",
            "Primzahlen zwischen 10 und 30:\n",
            "[11, 13, 17, 19, 23, 29]\n",
            "\n",
            "Primfaktoren von 42:\n",
            "[2, 3, 7]\n"
          ]
        }
      ]
    },
    {
      "cell_type": "markdown",
      "source": [
        "(c) Hier ein weiterer Baustein zum Primzahltest:\n",
        "```\n",
        "def primzahl(n):\n",
        "    prim = True\n",
        "    if n == 1:\n",
        "        prim = False\n",
        "    else:\n",
        "        i = 2\n",
        "        while i*i <= n:\n",
        "            if n % i == 0:\n",
        "                prim = False\n",
        "            i = i+1\n",
        "    return prim\n",
        "```\n",
        "Worin unterscheidet sich dieser Baustein vom oben gezeigte? Ersetze in einem Programm aus Teilaufgabe (b) den Baustein zum Primzahltest durch den neuen Baustein. Ändert sich hierdurch etwas am Verhalten des Programms?"
      ],
      "metadata": {
        "id": "zJlnFXH23At2"
      }
    },
    {
      "cell_type": "code",
      "source": [
        "# aus (b)\n",
        "def primzahl(n):\n",
        "    # n: int\n",
        "    # return: bool; True wenn n Primzahl ist, sonst False\n",
        "    prim = True\n",
        "    if n == 1:\n",
        "        prim = False\n",
        "    else:\n",
        "        i = 2\n",
        "        while i*i <= n:\n",
        "            if n % i == 0:\n",
        "                prim = False\n",
        "            i = i+1\n",
        "    return prim\n",
        "\n",
        "# (1)\n",
        "def naechste_primzahl(a):\n",
        "    # a: int\n",
        "    # return: int; naechste Primzahl von a\n",
        "    prim = False\n",
        "    while not prim:\n",
        "        a += 1\n",
        "        prim = primzahl(a)\n",
        "    return a\n",
        "\n",
        "print(\"Nächste Primzahlen von 1 bis 10:\")\n",
        "for i in range(1, 11):\n",
        "    print(f\"{i}->{naechste_primzahl(i)}\", end=\", \")\n",
        "print(\"\")\n",
        "\n",
        "# (2)\n",
        "def primzahlen_zwischen(a, b):\n",
        "    # a, b: int\n",
        "    # return: list; Liste aller Primzahlen zwischen a und b\n",
        "    primzahlen = []\n",
        "    for i in range(a, b+1):\n",
        "        if primzahl(i):\n",
        "            primzahlen.append(i)\n",
        "    return primzahlen\n",
        "\n",
        "print(\"\\nPrimzahlen zwischen 10 und 30:\")\n",
        "print(primzahlen_zwischen(10, 30))\n",
        "\n",
        "# (3)\n",
        "def primfaktorzerlegung(a):\n",
        "    # a: int\n",
        "    # return: list; Liste der Primfaktoren von a\n",
        "    primfaktoren = []\n",
        "    i = 2\n",
        "    while a > 1:\n",
        "        if a % i == 0:\n",
        "            primfaktoren.append(i)\n",
        "            a = a / i\n",
        "        else:\n",
        "            i += 1\n",
        "    return primfaktoren\n",
        "\n",
        "print(\"\\nPrimfaktoren von 42:\")\n",
        "print(primfaktorzerlegung(42))"
      ],
      "metadata": {
        "colab": {
          "base_uri": "https://localhost:8080/"
        },
        "id": "JiFSBJuV3wTc",
        "outputId": "b863f052-6b0e-455c-f860-2d573a8175db"
      },
      "execution_count": null,
      "outputs": [
        {
          "output_type": "stream",
          "name": "stdout",
          "text": [
            "Nächste Primzahlen von 1 bis 10:\n",
            "1->2, 2->3, 3->5, 4->5, 5->7, 6->7, 7->11, 8->11, 9->11, 10->11, \n",
            "\n",
            "Primzahlen zwischen 10 und 30:\n",
            "[11, 13, 17, 19, 23, 29]\n",
            "\n",
            "Primfaktoren von 42:\n",
            "[2, 3, 7]\n"
          ]
        }
      ]
    },
    {
      "cell_type": "markdown",
      "source": [
        "**Antwort:** Es scheint so zu sein, dass sich *nichts* am Verhalten der Programme verändert hat. Der underschied zwischen den beiden Bausteien (a) und (b) von `primzahl()` ist auf Zeile `10`. Wo die Kondition von der While-Schleife von `i <= n-1` zu `i*i <= n` geändert wurde. Dies hat möglicherweise eine Mathematische-Optimierungs Grund zu haben."
      ],
      "metadata": {
        "id": "EdijiiHz4HEJ"
      }
    },
    {
      "cell_type": "markdown",
      "source": [
        "##Aufgabe 2: Schnittstellen beschreiben, Funktionen als Bausteine verwenden\n",
        "\n"
      ],
      "metadata": {
        "id": "A8o-5GU56HuS"
      }
    },
    {
      "cell_type": "markdown",
      "source": [
        " (a) Gegeben ist die Funktion ggt mit folgender Funktionsdefinition:\n",
        "```\n",
        "def ggt(x, y):\n",
        "    while y > 0:\n",
        "        h = x % y\n",
        "        x = y\n",
        "        y = h\n",
        "    return x\n",
        "```\n",
        "Teste diese Funktion und erstelle eine Schnittstellenbeschreibung."
      ],
      "metadata": {
        "id": "M-edbpBDFH4p"
      }
    },
    {
      "cell_type": "code",
      "source": [
        "def ggt(x, y):\n",
        "    # x, y: int\n",
        "    # return: int; Groesste gemeinsame Teiler von x und y\n",
        "    # Beispiele:\n",
        "    \"\"\"\n",
        "    >>> ggt(12, 18)\n",
        "    6\n",
        "    >>> ggt(25, 100)\n",
        "    25\n",
        "    >>> ggt(42, 105)\n",
        "    21\n",
        "    \"\"\"\n",
        "\n",
        "    while y > 0:\n",
        "        h = x % y\n",
        "        x = y\n",
        "        y = h\n",
        "    return x"
      ],
      "metadata": {
        "id": "zOh4MGoN6R2x"
      },
      "execution_count": null,
      "outputs": []
    },
    {
      "cell_type": "markdown",
      "source": [
        " (b) Die Funktion addiereBrueche soll dazu dienen, Brüche zu addieren:\n",
        "```\n",
        "def addiereBrueche(bruch1, bruch2):\n",
        "    (zaehler1, nenner1) = bruch1\n",
        "    (zaehler2, nenner2) = bruch2\n",
        "    nennerSumme = nenner1 * nenner2\n",
        "    zaehlerSumme = zaehler1*nenner2 + zaehler2*nenner1\n",
        "    bruchSumme = (zaehlerSumme, nennerSumme)\n",
        "    return bruchSumme\n",
        "```\n",
        "\n",
        "Wenn man sie testet, erhält man ungekürzte Ergebnisse:\n",
        "```\n",
        ">>> addiereBrueche((1,4), (1,4))\n",
        "(8, 16)\n",
        "```\n",
        "\n",
        "Benutze die Funktion ggt zur Verbesserung der Implementierung der Funktion addiereBrueche.\n",
        "\n",
        "Fertige anschließend eine Schnittstellenbeschreibung für die Funktion addiereBrueche an. Diese soll so gestaltet werden, dass man die Funktion benutzen kann, ohne dass man die Details der Implementierung kennt."
      ],
      "metadata": {
        "id": "gEx61drG_luG"
      }
    },
    {
      "cell_type": "code",
      "source": [
        "def ggt(x, y):\n",
        "    # x, y: int\n",
        "    # return: int; Groesste gemeinsame Teiler von x und y\n",
        "    while y > 0:\n",
        "        h = x % y\n",
        "        x = y\n",
        "        y = h\n",
        "    return x\n",
        "\n",
        "def addiereBrueche(bruch1, bruch2):\n",
        "    # bruch1, bruch2: tuple; (zaehler, nenner)\n",
        "    # return: tuple; (zaehler, nenner)\n",
        "    # Beispiele:\n",
        "    \"\"\"\n",
        "    >>> addiereBrueche((1,4), (1,4))\n",
        "    (1, 2)\n",
        "    >>> addiereBrueche((2,7), (1,7))\n",
        "    (3, 7)\n",
        "    >>> addiereBrueche((2,3), (2,6))\n",
        "    (1, 1)\n",
        "    \"\"\"\n",
        "\n",
        "    (zaehler1, nenner1) = bruch1\n",
        "    (zaehler2, nenner2) = bruch2\n",
        "    nennerSumme = nenner1 * nenner2\n",
        "    zaehlerSumme = zaehler1*nenner2 + zaehler2*nenner1\n",
        "    ggTeiler = ggt(zaehlerSumme, nennerSumme)\n",
        "    bruchSumme = (zaehlerSumme // ggTeiler, nennerSumme // ggTeiler)\n",
        "    return bruchSumme"
      ],
      "metadata": {
        "id": "ZgS7IBDS_tR-"
      },
      "execution_count": null,
      "outputs": []
    },
    {
      "cell_type": "markdown",
      "source": [
        "(c) Entwickle und dokumentiere analog Funktionen zur Subtraktion, Multiplikation und Division von Brüchen."
      ],
      "metadata": {
        "id": "dF5cDCKXBG_3"
      }
    },
    {
      "cell_type": "code",
      "source": [
        "def ggt(x, y):\n",
        "    # x, y: int\n",
        "    # return: int; Groesste gemeinsame Teiler von x und y\n",
        "    \"\"\"\n",
        "    >>> ggt(12, 18)\n",
        "    6\n",
        "    >>> ggt(25, 100)\n",
        "    25\n",
        "    >>> ggt(42, 105)\n",
        "    21\n",
        "    \"\"\"\n",
        "\n",
        "    while y > 0:\n",
        "        h = x % y\n",
        "        x = y\n",
        "        y = h\n",
        "    return x\n",
        "\n",
        "def vereinfacheBruch(bruch):\n",
        "    # bruch: tuple; (zaehler, nenner)\n",
        "    # return: tuple; (zaehler, nenner)\n",
        "    # Beispiel:\n",
        "    \"\"\"\n",
        "    >>> vereinfacheBruch((6,8))\n",
        "    (3, 4)\n",
        "    >>> vereinfacheBruch((2,7))\n",
        "    (2, 7)\n",
        "    \"\"\"\n",
        "    (zaehler, nenner) = bruch\n",
        "    ggTeiler = ggt(zaehler, nenner)\n",
        "    bruch = (zaehler // ggTeiler, nenner // ggTeiler)\n",
        "    return bruch\n",
        "\n",
        "def addiereBrueche(bruch1, bruch2):\n",
        "    # bruch1, bruch2: tuple; (zaehler, nenner)\n",
        "    # return: tuple; (zaehler, nenner); Summe\n",
        "    # Beispiele:\n",
        "    \"\"\"\n",
        "    >>> addiereBrueche((1,4), (1,4))\n",
        "    (1, 2)\n",
        "    >>> addiereBrueche((2,7), (1,7))\n",
        "    (3, 7)\n",
        "    >>> addiereBrueche((2,3), (2,6))\n",
        "    (1, 1)\n",
        "    \"\"\"\n",
        "\n",
        "    (zaehler1, nenner1) = bruch1\n",
        "    (zaehler2, nenner2) = bruch2\n",
        "    nennerSumme = nenner1 * nenner2\n",
        "    zaehlerSumme = zaehler1*nenner2 + zaehler2*nenner1\n",
        "    bruchSumme = vereinfacheBruch((zaehlerSumme, nennerSumme))\n",
        "    return bruchSumme\n",
        "\n",
        "def subtrahiereBrueche(bruch1, bruch2):\n",
        "    # bruch1, bruch2: tuple; (zaehler, nenner)\n",
        "    # return: tuple; (zaehler, nenner); Differenz\n",
        "    # Beispiele:\n",
        "    \"\"\"\n",
        "    >>> subtrahiereBrueche((2,7), (1,7))\n",
        "    (1, 7)\n",
        "    >>> subtrahiereBrueche((1,4), (1,4))\n",
        "    (0, 1)\n",
        "    >>> subtrahiereBrueche((2,3), (5,6))\n",
        "    (-1, 6)\n",
        "    \"\"\"\n",
        "\n",
        "    (zaehler1, nenner1) = bruch1\n",
        "    (zaehler2, nenner2) = bruch2\n",
        "    nennerDifferenz = nenner1 * nenner2\n",
        "    zaehlerDifferenz = zaehler1*nenner2 - zaehler2*nenner1\n",
        "    bruchDifferenz = vereinfacheBruch((zaehlerDifferenz, nennerDifferenz))\n",
        "    return bruchDifferenz\n",
        "\n",
        "def multipliziereBrueche(bruch1, bruch2):\n",
        "    # bruch1, bruch2: tuple; (zaehler, nenner)\n",
        "    # return: tuple; (zaehler, nenner); Produkt\n",
        "    # Beispiele:\n",
        "    \"\"\"\n",
        "    >>> multipliziereBrueche((1,4), (2,3))\n",
        "    (1, 6)\n",
        "    >>> multipliziereBrueche((1,5), (6,1))\n",
        "    (6, 5)\n",
        "    \"\"\"\n",
        "\n",
        "    (zaehler1, nenner1) = bruch1\n",
        "    (zaehler2, nenner2) = bruch2\n",
        "    nennerProdukt = nenner1 * nenner2\n",
        "    zaehlerProdukt = zaehler1 * zaehler2\n",
        "    bruchProdukt = vereinfacheBruch((zaehlerProdukt, nennerProdukt))\n",
        "    return bruchProdukt\n",
        "\n",
        "def dividiereBrueche(bruch1, bruch2):\n",
        "    # bruch1, bruch2: tuple; (zaehler, nenner)\n",
        "    # return: tuple; (zaehler, nenner); Quotient\n",
        "    \"\"\"\n",
        "    >>> dividiereBrueche((1,4), (1,4))\n",
        "    (1, 1)\n",
        "    >>> dividiereBrueche((2,7), (4,3))\n",
        "    (3, 14)\n",
        "    \"\"\"\n",
        "\n",
        "    (zaehler1, nenner1) = bruch1\n",
        "    (zaehler2, nenner2) = bruch2\n",
        "    nennerQuotient = nenner1 * zaehler2\n",
        "    zaehlerQuotient = zaehler1 * nenner2\n",
        "    bruchQuotient = vereinfacheBruch((zaehlerQuotient, nennerQuotient))\n",
        "    return bruchQuotient"
      ],
      "metadata": {
        "colab": {
          "base_uri": "https://localhost:8080/"
        },
        "id": "E_VM4qdTBIuU",
        "outputId": "df28c6e5-6ee4-4d9e-84ca-506715576cf4"
      },
      "execution_count": null,
      "outputs": [
        {
          "output_type": "stream",
          "name": "stdout",
          "text": [
            "(3, 14)\n"
          ]
        }
      ]
    },
    {
      "cell_type": "markdown",
      "source": [
        "##Aufgabe 3: Walmdach-Rechner"
      ],
      "metadata": {
        "id": "_iuJc0WVFL8-"
      }
    },
    {
      "cell_type": "markdown",
      "source": [
        "Die Abbildung zeigt, wie ein Walmdach aussieht. Man kann erahnen, dass die Berechnung der Fläche nicht ganz einfach ist. Bei einem Dachdecker-Betrieb gehört die komplexe Rechnung jedoch zum Tagesgeschäft und ein geeignetes Computerprogramm könnte hier möglicherweise sehr hilfreich sein.\n",
        "\n",
        "<img src=\"https://inf-schule.de/content/6_imperative-programmierung/3_python/2_konzepte/12_module/5_uebungen/Walmdach.svg\">\n",
        "\n",
        " Den Ziegelbedarf für ein Walmdach kann man mit einer Funktion abschätzen, die bei Übergabe der Größen des Dachs den gesamten Flächeninhalt des Dachs zurückliefert.\n",
        "\n",
        "Die Größe eines Walmdachs lässt sich mit Länge, Breite, Höhe und der Länge des Dachfirsts beschreiben.\n",
        "\n",
        "<img src=\"https://inf-schule.de/content/6_imperative-programmierung/3_python/2_konzepte/12_module/5_uebungen/walmdach.png\">\n",
        "\n",
        "Entwickle eine Funktion zur automatisierten Berechnung der gesamten Dachfläche eines Walmdachs. Zerlege das Problem und benutze geeignete Hilfsfunktionen.\n"
      ],
      "metadata": {
        "id": "rbvOD-pxFN0T"
      }
    },
    {
      "cell_type": "code",
      "source": [
        "def flaeche_dreieck(g, h):\n",
        "    # g, h: float\n",
        "    # return: float; Flaeche des Dreiecks\n",
        "    return g * h * 0.5\n",
        "\n",
        "def flaeche_trapez(a, c, h):\n",
        "    # a, c, h: float\n",
        "    # return: float; Flaeche des Trapez\n",
        "    return (a + c) * h * 0.5\n",
        "\n",
        "def satz_des_pythagoras(a, b):\n",
        "    # a, b: float; Ankathete und Gegenkathete (laengen a und b)\n",
        "    # return: float; Hypotenuse (laenge c)\n",
        "    return (a**2 + b**2)**0.5\n",
        "\n",
        "def flaeche_walmdach(laenge, breite, hoehe, dachfirst):\n",
        "    # laenge, breite, hoehe, dachfirst: float; Die laengen\n",
        "    # return: float; Dachflaeche des Walmdachs\n",
        "\n",
        "    #Sparrenhauptflaeche\n",
        "    hauptHoehe = satz_des_pythagoras(hoehe, breite*0.5)\n",
        "    hauptFlaeche = flaeche_trapez(laenge, dachfirst, hauptHoehe)\n",
        "\n",
        "    #Sparrenseitenflaeche\n",
        "    seitenHoehe = satz_des_pythagoras(hoehe, (laenge - dachfirst)*0.5)\n",
        "    seitenFlaeche = flaeche_dreieck(dachfirst, seitenHoehe)\n",
        "\n",
        "    return hauptFlaeche*2 + seitenFlaeche*2\n",
        "\n",
        "print(flaeche_walmdach(10, 5, 4, 8))"
      ],
      "metadata": {
        "colab": {
          "base_uri": "https://localhost:8080/"
        },
        "id": "g8fhb24hGIX8",
        "outputId": "2c2a2ca4-32c7-47cf-c10f-3ce5ee60e9ba"
      },
      "execution_count": null,
      "outputs": [
        {
          "output_type": "stream",
          "name": "stdout",
          "text": [
            "117.8906751934507\n"
          ]
        }
      ]
    }
  ]
}